{
 "cells": [
  {
   "cell_type": "code",
   "execution_count": 18,
   "metadata": {},
   "outputs": [
    {
     "name": "stdout",
     "output_type": "stream",
     "text": [
      "AKB\n"
     ]
    }
   ],
   "source": [
    "print(\"AKB\")"
   ]
  },
  {
   "cell_type": "markdown",
   "metadata": {},
   "source": [
    "Day 3 (MD-1)"
   ]
  },
  {
   "cell_type": "code",
   "execution_count": null,
   "metadata": {},
   "outputs": [],
   "source": []
  },
  {
   "cell_type": "code",
   "execution_count": 19,
   "metadata": {},
   "outputs": [
    {
     "name": "stdout",
     "output_type": "stream",
     "text": [
      "Hello, welcome \n"
     ]
    }
   ],
   "source": [
    "name_input = input()\n",
    "print(\"Hello, welcome\" , name_input)"
   ]
  },
  {
   "cell_type": "code",
   "execution_count": 20,
   "metadata": {},
   "outputs": [
    {
     "name": "stdout",
     "output_type": "stream",
     "text": [
      "True <class 'bool'>\n"
     ]
    }
   ],
   "source": [
    "a = bool(str(float(-2)))\n",
    "print (a, type(a))"
   ]
  },
  {
   "cell_type": "code",
   "execution_count": 21,
   "metadata": {},
   "outputs": [
    {
     "name": "stdout",
     "output_type": "stream",
     "text": [
      "Hello, World\n",
      "4 <class 'int'>\n"
     ]
    }
   ],
   "source": [
    "print (\"Hello, World\")\n",
    "a = int(\"4\")\n",
    "print (a, type(a))\n"
   ]
  },
  {
   "cell_type": "code",
   "execution_count": 27,
   "metadata": {},
   "outputs": [
    {
     "data": {
      "text/plain": [
       "13"
      ]
     },
     "execution_count": 27,
     "metadata": {},
     "output_type": "execute_result"
    }
   ],
   "source": [
    "a = 4\n",
    "b = a + 8\n",
    "a+= 9\n",
    "a"
   ]
  },
  {
   "cell_type": "code",
   "execution_count": 31,
   "metadata": {},
   "outputs": [
    {
     "name": "stdout",
     "output_type": "stream",
     "text": [
      "-16\n"
     ]
    }
   ],
   "source": [
    "x = 5\n",
    "y = 10.2\n",
    "z = x + y\n",
    "type (z)\n",
    "\n",
    "x = \"Bo Bo\"\n",
    "type(x)\n",
    "\n",
    "a = 6 ** 2 // 4\n",
    "b = int(isinstance(a, int))\n",
    "a+= 8\n",
    "print (b-a)"
   ]
  },
  {
   "cell_type": "markdown",
   "metadata": {},
   "source": [
    "### Day 4"
   ]
  },
  {
   "cell_type": "code",
   "execution_count": 17,
   "metadata": {},
   "outputs": [
    {
     "name": "stdout",
     "output_type": "stream",
     "text": [
      "True\n"
     ]
    }
   ],
   "source": [
    "not True\n",
    "not (False)\n",
    "True and True\n",
    "True and False\n",
    "False and False\n",
    "\n",
    "2>3 and 4>4\n",
    "\n",
    "True or True\n",
    "False or True\n",
    "True or False\n",
    "\n",
    "a = 5\n",
    "b = 4\n",
    "print(a != b-1 or b**2 > 4)"
   ]
  },
  {
   "cell_type": "code",
   "execution_count": 24,
   "metadata": {},
   "outputs": [
    {
     "name": "stdout",
     "output_type": "stream",
     "text": [
      "6\n"
     ]
    }
   ],
   "source": [
    "first_number = int(input (\"Enter first number: \"))\n",
    "second_number = int(input (\"Enter second number: \"))\n",
    "added_result = first_number + second_number\n",
    "print(added_result)"
   ]
  },
  {
   "cell_type": "code",
   "execution_count": null,
   "metadata": {},
   "outputs": [],
   "source": [
    "a = float(input(\"Enter room temperature C\"))\n",
    "b = (9/5 * a) + 32\n",
    "print(b)"
   ]
  },
  {
   "cell_type": "code",
   "execution_count": 56,
   "metadata": {},
   "outputs": [
    {
     "name": "stdout",
     "output_type": "stream",
     "text": [
      "Room temperature is 68.9 F\n"
     ]
    }
   ],
   "source": [
    "temp_c = float (input(\"Enter room temperature in celsius\"))\n",
    "temp_f = (9/5 * temp_c) + 32\n",
    "ans    = \"Room temperature is \" + str( temp_f ) + \" F\"\n",
    "print (ans)"
   ]
  },
  {
   "cell_type": "code",
   "execution_count": 46,
   "metadata": {},
   "outputs": [
    {
     "name": "stdout",
     "output_type": "stream",
     "text": [
      "C = 20.5\n",
      "F = 68.9\n",
      "R = 21.3\n",
      "K = 293.5\n"
     ]
    }
   ],
   "source": [
    "temp_celcius = float (input(\"Enter room temperature in celsius\"))\n",
    "\n",
    "temp_romer = temp_celcius + 0.8\n",
    "temp_fareheit = temp_celcius*1.8 + 32\n",
    "temp_kelvin = temp_celcius + 273\n",
    "\n",
    "print(\"C =\", temp_celcius)\n",
    "print(\"F =\", temp_fareheit)\n",
    "print(\"R =\", temp_romer)\n",
    "print(\"K =\", temp_kelvin)"
   ]
  },
  {
   "cell_type": "markdown",
   "metadata": {},
   "source": [
    "Maths Functions"
   ]
  },
  {
   "cell_type": "code",
   "execution_count": 50,
   "metadata": {},
   "outputs": [
    {
     "data": {
      "text/plain": [
       "2.0"
      ]
     },
     "execution_count": 50,
     "metadata": {},
     "output_type": "execute_result"
    }
   ],
   "source": [
    "abs(-12)\n",
    "abs(223)\n",
    "abs(-2.0)"
   ]
  },
  {
   "cell_type": "code",
   "execution_count": 52,
   "metadata": {},
   "outputs": [
    {
     "data": {
      "text/plain": [
       "-23"
      ]
     },
     "execution_count": 52,
     "metadata": {},
     "output_type": "execute_result"
    }
   ],
   "source": [
    "max(23, 4, -2, 0)\n",
    "min(-23, 2, 78)"
   ]
  },
  {
   "cell_type": "code",
   "execution_count": 55,
   "metadata": {},
   "outputs": [
    {
     "data": {
      "text/plain": [
       "1000"
      ]
     },
     "execution_count": 55,
     "metadata": {},
     "output_type": "execute_result"
    }
   ],
   "source": [
    "round(2.45 , 1)\n",
    "round(-2.4525 , 3)\n",
    "round(1242, -3)"
   ]
  },
  {
   "cell_type": "markdown",
   "metadata": {},
   "source": [
    "Turtle Library"
   ]
  },
  {
   "cell_type": "code",
   "execution_count": null,
   "metadata": {},
   "outputs": [],
   "source": [
    "import turtle"
   ]
  },
  {
   "cell_type": "code",
   "execution_count": null,
   "metadata": {},
   "outputs": [],
   "source": [
    "turtle.forward(200)"
   ]
  },
  {
   "cell_type": "markdown",
   "metadata": {},
   "source": [
    "Day5"
   ]
  },
  {
   "cell_type": "code",
   "execution_count": null,
   "metadata": {},
   "outputs": [],
   "source": [
    "PI = 3.14\n",
    "MATH_E = 2.7"
   ]
  },
  {
   "cell_type": "markdown",
   "metadata": {},
   "source": [
    "#Conditionals\n",
    "\n"
   ]
  },
  {
   "cell_type": "code",
   "execution_count": 9,
   "metadata": {},
   "outputs": [
    {
     "name": "stdout",
     "output_type": "stream",
     "text": [
      "Hola\n",
      "WON\n",
      "Hola\n",
      "WON\n"
     ]
    }
   ],
   "source": [
    "if 5!= 4 and 5>3:\n",
    "    print(\"Hola\")\n",
    "print(\"WON\")\n",
    "\n",
    "if not 5!= 4 and 5>3:\n",
    "        print(\"Hola\")\n",
    "        print(\"WON\")\n",
    "\n"
   ]
  },
  {
   "cell_type": "code",
   "execution_count": 11,
   "metadata": {},
   "outputs": [
    {
     "name": "stdout",
     "output_type": "stream",
     "text": [
      "Nooooooo\n",
      "Yesssss\n",
      "Wowwww\n"
     ]
    }
   ],
   "source": [
    "if 5!= 4 and 6>3 :\n",
    "    if 5>4:\n",
    "        print (\"Nooooooo\")\n",
    "    print(\"Yesssss\")\n",
    "print(\"Wowwww\")"
   ]
  },
  {
   "cell_type": "code",
   "execution_count": null,
   "metadata": {},
   "outputs": [],
   "source": [
    "if 3 != 4 and 4 != 5 and 5 != 6:\n",
    "    print\n"
   ]
  },
  {
   "cell_type": "markdown",
   "metadata": {},
   "source": [
    "#Else\n",
    "If you use If and else, if condition is true, there will be no output from else"
   ]
  },
  {
   "cell_type": "code",
   "execution_count": null,
   "metadata": {},
   "outputs": [],
   "source": [
    "if 3 > 4:\n",
    "    print(\"TRUE\")\n",
    "else:\n",
    "    print(\"FALSE\")"
   ]
  },
  {
   "cell_type": "markdown",
   "metadata": {},
   "source": [
    "ELIF"
   ]
  },
  {
   "cell_type": "code",
   "execution_count": 16,
   "metadata": {},
   "outputs": [
    {
     "name": "stdout",
     "output_type": "stream",
     "text": [
      "E\n"
     ]
    }
   ],
   "source": [
    "if 2>3:\n",
    "    print(\"A\")\n",
    "elif 3>5 :\n",
    "    print (\"B\")\n",
    "elif 5<3 :\n",
    "    print (\"C\")\n",
    "elif 4>5 :\n",
    "    print (\"D\")\n",
    "else:\n",
    "    print (\"E\")"
   ]
  },
  {
   "cell_type": "code",
   "execution_count": 21,
   "metadata": {},
   "outputs": [
    {
     "name": "stdout",
     "output_type": "stream",
     "text": [
      "Go Back home & eat Mama\n"
     ]
    }
   ],
   "source": [
    "pocket_money = int(input(\"Enter your pocket money: \"))\n",
    "age = int(input(\"Enter your age: \"))\n",
    "\n",
    "if pocket_money > 3000:\n",
    "    print (\"Cavier and foie gras\")\n",
    "    print (\"Wine\")\n",
    "elif pocket_money  > 700:\n",
    "    print (\"Buffet\")\n",
    "    elif age\n",
    "    print (\"Beer\")\n",
    "elif pocket_money > 100:\n",
    "    print (\"Fried Rice\")\n",
    "elif pocket_money < 10:\n",
    "    print (\"Go Back home & eat Mama\")"
   ]
  },
  {
   "cell_type": "code",
   "execution_count": 28,
   "metadata": {},
   "outputs": [
    {
     "name": "stdout",
     "output_type": "stream",
     "text": [
      "11\n"
     ]
    }
   ],
   "source": [
    "n = int (input(\"enter number between -1000 and 1000: \"))\n",
    "print (n + 1)"
   ]
  },
  {
   "cell_type": "markdown",
   "metadata": {},
   "source": [
    "You are given three positive integers a\n",
    ", b\n",
    " and c\n",
    " which are the sides of the triangle. Print the perimeter of this triangle.\n",
    "\n",
    "Input\n",
    "The first line contains a positive integer a\n",
    ", the second line contains a positive integer b\n",
    " and the third line contains a positive integer c\n",
    " (1≤a,b,c≤1000\n",
    ").\n",
    "\n",
    "Output\n",
    "Output a single positive integer — the perimeter of a triangle with the given sides."
   ]
  },
  {
   "cell_type": "code",
   "execution_count": 31,
   "metadata": {},
   "outputs": [
    {
     "name": "stdout",
     "output_type": "stream",
     "text": [
      "20\n"
     ]
    }
   ],
   "source": [
    "a = int(input())\n",
    "b = int(input())\n",
    "c = int(input())\n",
    "perimeter = a + b + c\n",
    "print(perimeter)\n"
   ]
  },
  {
   "cell_type": "code",
   "execution_count": 32,
   "metadata": {},
   "outputs": [
    {
     "name": "stdout",
     "output_type": "stream",
     "text": [
      "6\n"
     ]
    }
   ],
   "source": [
    "n = int(input())\n",
    "print(n+1)"
   ]
  },
  {
   "cell_type": "markdown",
   "metadata": {},
   "source": [
    "You are given two positive integers a\n",
    ", b\n",
    " which are the sides of the rectangle. Print the area of this rectangle.\n",
    "\n",
    "Input\n",
    "The first line contains a positive integer a\n",
    " and the second line contains a positive integer b\n",
    " (1≤a,b≤1000)\n",
    ".\n",
    "\n",
    "Output\n",
    "Output a single positive integer — the area of a rectangle with the given sides."
   ]
  },
  {
   "cell_type": "code",
   "execution_count": 33,
   "metadata": {},
   "outputs": [
    {
     "name": "stdout",
     "output_type": "stream",
     "text": [
      "20\n"
     ]
    }
   ],
   "source": [
    "a = int(input())\n",
    "b = int(input())\n",
    "area = a * b\n",
    "print(area)"
   ]
  },
  {
   "cell_type": "markdown",
   "metadata": {},
   "source": [
    "Input\n",
    "The first line contains a positive integer n\n",
    " (1≤n≤1000\n",
    ") — the number of apples.\n",
    "\n",
    "The second line contains a positive integer m\n",
    " (1≤m≤1000\n",
    ") — the number of students in the camp.\n",
    "\n",
    "Output\n",
    "Output a single positive integer — the number of apples each students gets after an even distribution of apples."
   ]
  },
  {
   "cell_type": "code",
   "execution_count": 36,
   "metadata": {},
   "outputs": [
    {
     "name": "stdout",
     "output_type": "stream",
     "text": [
      "2\n"
     ]
    }
   ],
   "source": [
    "no_apples = int(input())\n",
    "no_students = int(input())\n",
    "c = no_apples//no_students\n",
    "print(c)\n"
   ]
  },
  {
   "cell_type": "markdown",
   "metadata": {},
   "source": [
    "The supervisor brought some apples to the programming camp and wants to distribute them among the students. You are given two positive integers n\n",
    " and m\n",
    ", where n\n",
    " is a number of apples and m\n",
    " is a number of students. The supervisor wants to distribute apples evenly so that every student gets the same number of apples. At the same time, he wants this number to be as large as possible. Your task is to calculate the number of apples that will remain after such distribution.\n",
    "\n",
    "Input\n",
    "The first line contains a positive integer n\n",
    " (1≤n≤1000\n",
    ") — the number of apples.\n",
    "\n",
    "The second line contains a positive integer m\n",
    " (1≤m≤1000\n",
    ") — the number of students in the camp.\n",
    "\n",
    "Output\n",
    "Output a single integer — the number of apples that will remain after an even distribution of apples."
   ]
  },
  {
   "cell_type": "code",
   "execution_count": 38,
   "metadata": {},
   "outputs": [
    {
     "name": "stdout",
     "output_type": "stream",
     "text": [
      "0\n"
     ]
    }
   ],
   "source": [
    "no_apples = int(input())\n",
    "no_students = int(input())\n",
    "c = no_apples % no_students\n",
    "print(c)"
   ]
  },
  {
   "cell_type": "code",
   "execution_count": 39,
   "metadata": {},
   "outputs": [
    {
     "name": "stdout",
     "output_type": "stream",
     "text": [
      "9\n"
     ]
    }
   ],
   "source": [
    "price = int(input())\n",
    "discount = price % 10\n",
    "print(discount)"
   ]
  },
  {
   "cell_type": "markdown",
   "metadata": {},
   "source": [
    "New houses in the country Imaginationland have a special number system for flats. Every house has 10\n",
    " floors and there are 10\n",
    " flats on each floor. Each flat has a two-digit number, a first digit is a floor number and the second digit is a flat number on this floor. For example, the flat with number 34\n",
    " is on the third floor and the flat with number 70\n",
    " is on the seventh floor. Your task is to write a program which, given a flat number, prints the floor number.\n",
    "\n",
    "Input\n",
    "The only line contains a positive integer n\n",
    " (10≤n≤99\n",
    ") — the flat number.\n",
    "\n",
    "Output\n",
    "Output a single positive integer — the floor for the given flat number."
   ]
  },
  {
   "cell_type": "code",
   "execution_count": 46,
   "metadata": {},
   "outputs": [
    {
     "name": "stdout",
     "output_type": "stream",
     "text": [
      "4\n"
     ]
    }
   ],
   "source": [
    "flat_no = input()\n",
    "floor_no = int(flat_no[0])\n",
    "print(floor_no)"
   ]
  },
  {
   "cell_type": "markdown",
   "metadata": {},
   "source": [
    "Bob has just found a garden with n\n",
    " magical flowers. Bob knows that every day the number of magical flowers triples. He is interested in the number of magical flowers in the garden if he comes back k\n",
    " days later.\n",
    "\n",
    "Input\n",
    "The first line contains a positive integer n\n",
    " (1≤n≤100\n",
    ") — the current number of magical flowers .\n",
    "\n",
    "The second line contains a positive integer k\n",
    " (1≤k≤10\n",
    ") — the number of days after which Bob plans to visit the garden again.\n",
    "\n",
    "Output\n",
    "Output a single positive integer — the number of magical flowers in the garden if Bob returns k\n",
    " days later."
   ]
  },
  {
   "cell_type": "code",
   "execution_count": 43,
   "metadata": {},
   "outputs": [
    {
     "name": "stdout",
     "output_type": "stream",
     "text": [
      "15\n"
     ]
    }
   ],
   "source": [
    "no_flowers = int(input())\n",
    "no_days = int(input())\n",
    "\n",
    "no_flowers_left = no_flowers*(3 ** no_days)\n",
    "print(no_flowers_left)"
   ]
  },
  {
   "cell_type": "markdown",
   "metadata": {},
   "source": [
    "no_hours ="
   ]
  },
  {
   "cell_type": "markdown",
   "metadata": {},
   "source": []
  },
  {
   "cell_type": "code",
   "execution_count": 49,
   "metadata": {},
   "outputs": [
    {
     "name": "stdout",
     "output_type": "stream",
     "text": [
      "2\n",
      "50\n"
     ]
    },
    {
     "ename": "",
     "evalue": "",
     "output_type": "error",
     "traceback": [
      "\u001b[1;31mThe Kernel crashed while executing code in the current cell or a previous cell. \n",
      "\u001b[1;31mPlease review the code in the cell(s) to identify a possible cause of the failure. \n",
      "\u001b[1;31mClick <a href='https://aka.ms/vscodeJupyterKernelCrash'>here</a> for more info. \n",
      "\u001b[1;31mView Jupyter <a href='command:jupyter.viewOutput'>log</a> for further details."
     ]
    }
   ],
   "source": [
    "no_mins = int(input())\n",
    "no_hrs = no_mins // 60\n",
    "no_mins_final = no_mins % 60\n",
    "\n",
    "print(no_hrs)\n",
    "print(no_mins_final)"
   ]
  },
  {
   "cell_type": "markdown",
   "metadata": {},
   "source": [
    "Input\n",
    "The only line contains a single positive integer T\n",
    " (1≤T≤50\n",
    ") — the current temperature.\n",
    "\n",
    "Output\n",
    "Print \"CANCEL SCHOOL\" if T>35\n",
    ", \"CANCEL TWO CLASSES\" if T>30\n",
    ", and \"NORMAL CLASSES\" otherwise."
   ]
  },
  {
   "cell_type": "code",
   "execution_count": 32,
   "metadata": {},
   "outputs": [
    {
     "name": "stdout",
     "output_type": "stream",
     "text": [
      "NORMAL CLASSES\n"
     ]
    }
   ],
   "source": [
    "C_temp = float(input())\n",
    "\n",
    "if C_temp > 35 :\n",
    "        print(\"CANCEL SCHOOL\")\n",
    "    \n",
    "elif C_temp > 30 :\n",
    "        print(\"CANCEL TWO CLASSES\")\n",
    "    \n",
    "else :\n",
    "    print (\"NORMAL CLASSES\")\n",
    "\n"
   ]
  },
  {
   "cell_type": "code",
   "execution_count": 43,
   "metadata": {},
   "outputs": [
    {
     "name": "stdout",
     "output_type": "stream",
     "text": [
      "155\n"
     ]
    }
   ],
   "source": [
    "first_coins = int(input())\n",
    "sec_coins = int(input())\n",
    "third_coins = int(input())\n",
    "\n",
    "min_coins = min (first_coins, sec_coins, third_coins)\n",
    "all_coins = (first_coins + sec_coins + third_coins)\n",
    "\n",
    "total = (all_coins - min_coins)\n",
    "\n",
    "print (total)\n",
    "\n",
    "\n",
    "\n"
   ]
  },
  {
   "cell_type": "code",
   "execution_count": 35,
   "metadata": {},
   "outputs": [
    {
     "name": "stdout",
     "output_type": "stream",
     "text": [
      "NO\n"
     ]
    }
   ],
   "source": [
    "lucky_no = int(input())\n",
    "if lucky_no % 7 == 0 and lucky_no % 11 != 0:\n",
    "    print(\"YES\")\n",
    "\n",
    "else:\n",
    "    print(\"NO\")\n"
   ]
  },
  {
   "cell_type": "code",
   "execution_count": 48,
   "metadata": {},
   "outputs": [
    {
     "name": "stdout",
     "output_type": "stream",
     "text": [
      "CLOSED\n"
     ]
    }
   ],
   "source": [
    "current_time = int(input())\n",
    "if current_time >= 5 and current_time <= 9 :\n",
    "    print(\"OPEN\")\n",
    "\n",
    "else :\n",
    "    print (\"CLOSED\")"
   ]
  },
  {
   "cell_type": "code",
   "execution_count": 51,
   "metadata": {},
   "outputs": [
    {
     "name": "stdout",
     "output_type": "stream",
     "text": [
      "10\n"
     ]
    }
   ],
   "source": [
    "left_socks = int(input())\n",
    "right_socks = int(input())\n",
    "no_pairs = min (left_socks , right_socks)\n",
    "\n",
    "print(no_pairs)\n"
   ]
  },
  {
   "cell_type": "code",
   "execution_count": 54,
   "metadata": {},
   "outputs": [
    {
     "name": "stdout",
     "output_type": "stream",
     "text": [
      "Achieved\n"
     ]
    }
   ],
   "source": [
    "score = int(input())\n",
    "\n",
    "if 0 <= score <= 40 :\n",
    "     print (\"Emerging\")\n",
    "\n",
    "elif 41 <= score <= 80 :\n",
    "     print (\"Developing\")\n",
    "\n",
    "elif 81 <= score <= 100 :\n",
    "     print (\"Achieved\")\n"
   ]
  },
  {
   "cell_type": "code",
   "execution_count": 59,
   "metadata": {},
   "outputs": [
    {
     "name": "stdout",
     "output_type": "stream",
     "text": [
      "YES\n"
     ]
    }
   ],
   "source": [
    "no_apples     = int(input())\n",
    "no_oranges    = int(input())\n",
    "size_firstbag = int(input())\n",
    "size_secbag   = int(input())\n",
    "\n",
    "if size_firstbag and size_secbag >= no_apples and no_oranges :\n",
    "    print (\"YES\")\n",
    "\n",
    "else:\n",
    "    print (\"NO\")\n",
    "\n"
   ]
  },
  {
   "cell_type": "code",
   "execution_count": 63,
   "metadata": {},
   "outputs": [
    {
     "name": "stdout",
     "output_type": "stream",
     "text": [
      "Yes\n"
     ]
    }
   ],
   "source": [
    "no_apples     = int(input())\n",
    "no_oranges    = int(input())\n",
    "size_firstbag = int(input())\n",
    "size_secbag   = int(input())\n",
    "\n",
    "big_bag = max(size_firstbag , size_secbag)\n",
    "small_bag = min(size_firstbag , size_secbag)\n",
    "more_cakes = max(no_apples, no_oranges)\n",
    "less_cakes = min(no_apples, no_oranges)\n",
    "\n",
    "if big_bag >= more_cakes and small_bag >= less_cakes :\n",
    "    print (\"Yes\")\n",
    "else:\n",
    "    print (\"NO\")"
   ]
  },
  {
   "cell_type": "code",
   "execution_count": 76,
   "metadata": {},
   "outputs": [
    {
     "name": "stdout",
     "output_type": "stream",
     "text": [
      "7\n",
      "6\n",
      "5\n",
      "4\n",
      "3\n",
      "2\n",
      "1\n"
     ]
    }
   ],
   "source": [
    "number = int(input())\n",
    "while 1<= number <= 1000:\n",
    "    print (number)\n",
    "    number -= 1\n"
   ]
  },
  {
   "cell_type": "code",
   "execution_count": null,
   "metadata": {},
   "outputs": [],
   "source": [
    "number = int(input())\n",
    "final_value = \n",
    "while 1<= number <= 1000 :\n",
    "    print (number)\n",
    "    number "
   ]
  },
  {
   "cell_type": "code",
   "execution_count": null,
   "metadata": {},
   "outputs": [],
   "source": []
  },
  {
   "cell_type": "code",
   "execution_count": 3,
   "metadata": {},
   "outputs": [
    {
     "name": "stdout",
     "output_type": "stream",
     "text": [
      "7\n"
     ]
    }
   ],
   "source": [
    "no_flat = int(input())\n",
    "no_floor = no_flat // 10\n",
    "\n",
    "print(no_floor)"
   ]
  },
  {
   "cell_type": "code",
   "execution_count": null,
   "metadata": {},
   "outputs": [],
   "source": []
  },
  {
   "cell_type": "markdown",
   "metadata": {},
   "source": [
    "Day - 6"
   ]
  },
  {
   "cell_type": "code",
   "execution_count": null,
   "metadata": {},
   "outputs": [],
   "source": [
    "# FOR LOOP ( You know where to start)\n",
    "# WHILE LOOP ( You don't know where to start)\n",
    "\n",
    "while CONDITION :\n",
    "    ACTION \n",
    "\n",
    "Number = 1\n",
    "while number <= 10:\n",
    "    print (number)\n",
    "    number += 1"
   ]
  },
  {
   "cell_type": "code",
   "execution_count": 8,
   "metadata": {},
   "outputs": [
    {
     "name": "stdout",
     "output_type": "stream",
     "text": [
      "2\n",
      "4\n",
      "6\n",
      "8\n",
      "10\n",
      "12\n",
      "14\n",
      "16\n",
      "18\n",
      "20\n"
     ]
    }
   ],
   "source": [
    "number = 2\n",
    "while number <= 20:\n",
    "    print (number)\n",
    "    number += 2"
   ]
  },
  {
   "cell_type": "code",
   "execution_count": 12,
   "metadata": {},
   "outputs": [
    {
     "name": "stdout",
     "output_type": "stream",
     "text": [
      "2\n",
      "4\n",
      "6\n",
      "8\n",
      "10\n",
      "12\n",
      "14\n",
      "16\n",
      "18\n",
      "20\n"
     ]
    }
   ],
   "source": [
    "number = 1\n",
    "while number <= 20:\n",
    "    if number % 2 == 0:\n",
    "        print (number)\n",
    "    number += 1"
   ]
  },
  {
   "cell_type": "code",
   "execution_count": 13,
   "metadata": {},
   "outputs": [
    {
     "name": "stdout",
     "output_type": "stream",
     "text": [
      "1\n",
      "2\n",
      "3\n",
      "4\n",
      "5\n",
      "6\n"
     ]
    }
   ],
   "source": [
    "# 1 \n",
    "# Continue won't never watch under this\n",
    "# Pass is for WIP (No effect on code)\n",
    "\n",
    "number = 1\n",
    "while True:\n",
    "    print(number)\n",
    "    if number % 3 == 0 and number %2 == 0 :\n",
    "        break\n",
    "    number += 1\n"
   ]
  },
  {
   "cell_type": "markdown",
   "metadata": {},
   "source": [
    "For Loop\n",
    "range ( start, stop, step)\n",
    "\n",
    "For variable_name in range (STH):\\\n",
    "Do_something"
   ]
  },
  {
   "cell_type": "code",
   "execution_count": 14,
   "metadata": {},
   "outputs": [
    {
     "data": {
      "text/plain": [
       "range(0, 6)"
      ]
     },
     "execution_count": 14,
     "metadata": {},
     "output_type": "execute_result"
    }
   ],
   "source": [
    "range(6) # 0,1,2,3,4,5\n",
    "range(0) # Nothing\n",
    "range(-3) # Nothing\n",
    "range(5,2) # Nothing\n",
    "range (3,9,2) # 3,5,7\n",
    "\n",
    "range (10, -1. -1) #10,9,8,7,6,5,4,3,2,1,0\n",
    "range (-3, 7, 3) # -3, 0, 3, 6"
   ]
  },
  {
   "cell_type": "code",
   "execution_count": 15,
   "metadata": {},
   "outputs": [
    {
     "name": "stdout",
     "output_type": "stream",
     "text": [
      "0\n",
      "1\n",
      "2\n",
      "3\n",
      "4\n"
     ]
    }
   ],
   "source": [
    "for number in range(5):\n",
    "    print(number)\n",
    "\n",
    "for number in range(20,5,-3)\n"
   ]
  },
  {
   "cell_type": "code",
   "execution_count": 28,
   "metadata": {},
   "outputs": [
    {
     "name": "stdout",
     "output_type": "stream",
     "text": [
      "1\n",
      "4\n",
      "9\n",
      "16\n",
      "25\n",
      "36\n",
      "49\n",
      "64\n",
      "81\n",
      "100\n"
     ]
    }
   ],
   "source": [
    "for number in range (1, 11) :\n",
    "    print(number * number)\n",
    "    #print (number **2 )"
   ]
  },
  {
   "cell_type": "code",
   "execution_count": 29,
   "metadata": {},
   "outputs": [
    {
     "ename": "KeyboardInterrupt",
     "evalue": "",
     "output_type": "error",
     "traceback": [
      "\u001b[1;31m---------------------------------------------------------------------------\u001b[0m",
      "\u001b[1;31mKeyboardInterrupt\u001b[0m                         Traceback (most recent call last)",
      "Cell \u001b[1;32mIn[29], line 3\u001b[0m\n\u001b[0;32m      1\u001b[0m \u001b[38;5;28;01mwhile\u001b[39;00m \u001b[38;5;28;01mTrue\u001b[39;00m:\n\u001b[0;32m      2\u001b[0m     \u001b[38;5;28;01mfor\u001b[39;00m i \u001b[38;5;129;01min\u001b[39;00m \u001b[38;5;28mrange\u001b[39m(\u001b[38;5;241m10\u001b[39m):\n\u001b[1;32m----> 3\u001b[0m         \u001b[38;5;28;01mwhile\u001b[39;00m \u001b[38;5;28;01mTrue\u001b[39;00m:\n\u001b[0;32m      4\u001b[0m             \u001b[38;5;28;01mif\u001b[39;00m \u001b[38;5;28;01mTrue\u001b[39;00m:\n\u001b[0;32m      5\u001b[0m                 \u001b[38;5;28;01mpass\u001b[39;00m\n",
      "\u001b[1;31mKeyboardInterrupt\u001b[0m: "
     ]
    }
   ],
   "source": [
    "while True:\n",
    "    for i in range(10):\n",
    "        while True:\n",
    "            if True:\n",
    "                pass\n",
    "            elif True:\n",
    "                pass"
   ]
  },
  {
   "cell_type": "markdown",
   "metadata": {},
   "source": []
  },
  {
   "cell_type": "code",
   "execution_count": 11,
   "metadata": {},
   "outputs": [
    {
     "name": "stdout",
     "output_type": "stream",
     "text": [
      "1\n",
      "5\n",
      "14\n",
      "30\n"
     ]
    }
   ],
   "source": [
    "n = int(input())\n",
    "total_sum = 0\n",
    "\n",
    "for i in range (1 , n + 1) :\n",
    "    total_sum += (i * i)\n",
    "\n",
    "print(total_sum)\n",
    "\n",
    "\n",
    "\n"
   ]
  },
  {
   "cell_type": "code",
   "execution_count": null,
   "metadata": {},
   "outputs": [],
   "source": [
    "n = int(input)\n"
   ]
  },
  {
   "cell_type": "markdown",
   "metadata": {},
   "source": [
    "You are given two non-negative integers a\n",
    " and b\n",
    ". Print all even integers from a\n",
    " to b\n",
    " in ascending order.\n",
    "\n",
    "For example, if a=2\n",
    " and b=9\n",
    ", the numbers to print are 2\n",
    ", 4\n",
    ", 6\n",
    ", and 8\n",
    ".\n",
    "\n",
    "Input\n",
    "The first line contains a non-negative integer a\n",
    ", the second line contains a non-negative integer b\n",
    " (0≤a,b≤1000,a<b)\n",
    ".\n",
    "\n",
    "Output\n",
    "Print all even integers from a\n",
    " to b\n",
    " in ascending order, each on a separate line."
   ]
  },
  {
   "cell_type": "code",
   "execution_count": 11,
   "metadata": {},
   "outputs": [
    {
     "name": "stdout",
     "output_type": "stream",
     "text": [
      "8\n",
      "10\n",
      "12\n",
      "14\n",
      "16\n",
      "18\n"
     ]
    }
   ],
   "source": [
    "a = int(input())\n",
    "b = int(input())\n",
    "\n",
    "for i in range(a , b + 1):\n",
    "     if i % 2 == 0 :\n",
    "        print (i)\n",
    "\n",
    "\n",
    "\n"
   ]
  },
  {
   "cell_type": "code",
   "execution_count": 2,
   "metadata": {},
   "outputs": [
    {
     "name": "stdout",
     "output_type": "stream",
     "text": [
      "27\n"
     ]
    }
   ],
   "source": [
    "n = int(input())\n",
    "total_sum = 0\n",
    "\n",
    "for numbers in range (n):\n",
    "    numbers = int(input())\n",
    "    total_sum += number\n",
    "\n",
    "print (total_sum)"
   ]
  },
  {
   "cell_type": "code",
   "execution_count": 17,
   "metadata": {},
   "outputs": [
    {
     "name": "stdout",
     "output_type": "stream",
     "text": [
      "2\n"
     ]
    }
   ],
   "source": [
    "n = int(input())\n",
    "num_zero = 0\n",
    "\n",
    "for numbers in range (n) :\n",
    "    numbers = int(input())\n",
    "    if numbers == 0 :\n",
    "        num_zero += 1\n",
    "\n",
    "\n",
    "print(num_zero)"
   ]
  },
  {
   "cell_type": "markdown",
   "metadata": {},
   "source": [
    "for num in range"
   ]
  },
  {
   "cell_type": "code",
   "execution_count": 21,
   "metadata": {},
   "outputs": [
    {
     "name": "stdout",
     "output_type": "stream",
     "text": [
      "5\n"
     ]
    }
   ],
   "source": [
    "num_heros = int(input())\n",
    "\n",
    "total = 0\n",
    "\n",
    "for i in range(1,num_heros + 1):\n",
    "    total += i\n",
    "\n",
    "for ex_heros in range (num_heros - 1):\n",
    "    ex_heros = int(input())\n",
    "    total -= ex_heros\n",
    "\n",
    "\n",
    "print(total)\n",
    "\n"
   ]
  },
  {
   "cell_type": "code",
   "execution_count": null,
   "metadata": {},
   "outputs": [],
   "source": [
    "for num in range(5):\n",
    "    print(num)\n",
    "    num = int(i)"
   ]
  },
  {
   "cell_type": "code",
   "execution_count": null,
   "metadata": {},
   "outputs": [],
   "source": [
    "n = int(input())\n",
    "total_sum = 0\n",
    " \n",
    "for num in range (n):\n",
    "    numbers = int(input())\n",
    "    total_sum += numbers\n",
    " \n",
    "print (total_sum)"
   ]
  },
  {
   "cell_type": "markdown",
   "metadata": {},
   "source": [
    "Day - 7"
   ]
  },
  {
   "cell_type": "code",
   "execution_count": 1,
   "metadata": {},
   "outputs": [
    {
     "name": "stdout",
     "output_type": "stream",
     "text": [
      "2 2\n",
      "2 4\n",
      "3 2\n",
      "3 4\n",
      "4 2\n",
      "4 4\n"
     ]
    }
   ],
   "source": [
    "for i in range( 2 , 5) :\n",
    "    for j in range ( 2 , 6 , 2) :\n",
    "        print( i , j)\n"
   ]
  },
  {
   "cell_type": "code",
   "execution_count": 10,
   "metadata": {},
   "outputs": [
    {
     "name": "stdout",
     "output_type": "stream",
     "text": [
      "2 1\n",
      "3 3\n",
      "4 1\n",
      "5 3\n"
     ]
    }
   ],
   "source": [
    "i = 2\n",
    "while i < 5:\n",
    "    for j in range (1, 5, 2):\n",
    "        print (i,j)\n",
    "        i += 1"
   ]
  },
  {
   "cell_type": "code",
   "execution_count": 8,
   "metadata": {},
   "outputs": [
    {
     "name": "stdout",
     "output_type": "stream",
     "text": [
      "2\n",
      "3\n",
      "6\n",
      "4\n",
      "8\n",
      "12\n"
     ]
    }
   ],
   "source": [
    "for i in range(5) :\n",
    "    for j in range(1, i) :\n",
    "        print(i * j)"
   ]
  },
  {
   "cell_type": "markdown",
   "metadata": {},
   "source": [
    "STRING"
   ]
  },
  {
   "cell_type": "code",
   "execution_count": 16,
   "metadata": {},
   "outputs": [
    {
     "data": {
      "text/plain": [
       "'Bo Bo Bo Bo Bo Bo '"
      ]
     },
     "execution_count": 16,
     "metadata": {},
     "output_type": "execute_result"
    }
   ],
   "source": [
    "quote = \"\"\n",
    "\n",
    "s1 = \"Hello,  \"\n",
    "s2 = \"Bo\"\n",
    "s1 + s2 \n",
    "\n",
    "s3 = \"Bo \"\n",
    "s3 * 6"
   ]
  },
  {
   "cell_type": "code",
   "execution_count": 20,
   "metadata": {},
   "outputs": [
    {
     "data": {
      "text/plain": [
       "2"
      ]
     },
     "execution_count": 20,
     "metadata": {},
     "output_type": "execute_result"
    }
   ],
   "source": [
    "s3 = \"Bo\"\n",
    "len(s3)"
   ]
  },
  {
   "cell_type": "markdown",
   "metadata": {},
   "source": [
    "Indexing"
   ]
  },
  {
   "cell_type": "code",
   "execution_count": 23,
   "metadata": {},
   "outputs": [
    {
     "data": {
      "text/plain": [
       "'o'"
      ]
     },
     "execution_count": 23,
     "metadata": {},
     "output_type": "execute_result"
    }
   ],
   "source": [
    "s = \"Hello World!\"\n",
    "s[7]"
   ]
  },
  {
   "cell_type": "markdown",
   "metadata": {},
   "source": [
    "SLICING"
   ]
  },
  {
   "cell_type": "code",
   "execution_count": 24,
   "metadata": {},
   "outputs": [
    {
     "data": {
      "text/plain": [
       "'ell'"
      ]
     },
     "execution_count": 24,
     "metadata": {},
     "output_type": "execute_result"
    }
   ],
   "source": [
    "s = \"Hello, world!\"\n",
    "s [1:4]\n",
    "s [1 : 2340359]\n"
   ]
  },
  {
   "cell_type": "code",
   "execution_count": 2,
   "metadata": {},
   "outputs": [
    {
     "name": "stdout",
     "output_type": "stream",
     "text": [
      "76 13\n"
     ]
    }
   ],
   "source": [
    "a = input()\n",
    "b = input()\n",
    "bob_ans = a + b\n",
    "cor_ans = int(a) + int(b)\n",
    "\n",
    "print(bob_ans , cor_ans)"
   ]
  },
  {
   "cell_type": "code",
   "execution_count": 4,
   "metadata": {},
   "outputs": [
    {
     "name": "stdout",
     "output_type": "stream",
     "text": [
      "12 3\n"
     ]
    }
   ],
   "source": [
    "a = int(input())\n",
    "b = int(input())\n",
    "bob_ans = str(a) + str(b) \n",
    "cor_ans = a + b\n",
    "\n",
    "print(bob_ans , cor_ans)"
   ]
  },
  {
   "cell_type": "code",
   "execution_count": 36,
   "metadata": {},
   "outputs": [
    {
     "name": "stdout",
     "output_type": "stream",
     "text": [
      "c\n"
     ]
    }
   ],
   "source": [
    "s = input()\n",
    "i = int(input())\n",
    "one_word = s[i-1]\n",
    "\n",
    "print(one_word)\n"
   ]
  },
  {
   "cell_type": "markdown",
   "metadata": {},
   "source": [
    "Day 8"
   ]
  },
  {
   "cell_type": "markdown",
   "metadata": {},
   "source": [
    "F String (String Format)\n",
    "in / Not in Operator"
   ]
  },
  {
   "cell_type": "code",
   "execution_count": 11,
   "metadata": {},
   "outputs": [
    {
     "name": "stdout",
     "output_type": "stream",
     "text": [
      "Hello, Aung. Your age is1222\n",
      "Hello, Aung. Your age is 1222. \n"
     ]
    },
    {
     "data": {
      "text/plain": [
       "['Hello,', 'Aung.', 'Your', 'age', 'is1222']"
      ]
     },
     "execution_count": 11,
     "metadata": {},
     "output_type": "execute_result"
    }
   ],
   "source": [
    "user_name = input()\n",
    "age = input()\n",
    "\n",
    "greeting_msg = \"Hello, \" + user_name + \". Your age is\" + age\n",
    "\n",
    "greeting_msg_f = f\"Hello, {user_name}. Your age is {age}. \"\n",
    "print(greeting_msg)\n",
    "print(greeting_msg_f)\n",
    "\n",
    "greeting_msg.split()\n"
   ]
  },
  {
   "cell_type": "code",
   "execution_count": 12,
   "metadata": {},
   "outputs": [
    {
     "name": "stdout",
     "output_type": "stream",
     "text": [
      "True\n"
     ]
    }
   ],
   "source": [
    "s = \"I love chicken!\"\n",
    "print (\"I\" in s)"
   ]
  },
  {
   "cell_type": "code",
   "execution_count": 17,
   "metadata": {},
   "outputs": [
    {
     "data": {
      "text/plain": [
       "['I l', 've chicken!']"
      ]
     },
     "execution_count": 17,
     "metadata": {},
     "output_type": "execute_result"
    }
   ],
   "source": [
    "s = \"I love chicken!\"\n",
    "s.split(\"o\")"
   ]
  },
  {
   "cell_type": "markdown",
   "metadata": {},
   "source": [
    "Loop through String"
   ]
  },
  {
   "cell_type": "code",
   "execution_count": 18,
   "metadata": {},
   "outputs": [
    {
     "name": "stdout",
     "output_type": "stream",
     "text": [
      "I\n",
      " \n",
      "l\n",
      "o\n",
      "v\n",
      "e\n",
      " \n",
      "c\n",
      "h\n",
      "i\n",
      "c\n",
      "k\n",
      "e\n",
      "n\n"
     ]
    }
   ],
   "source": [
    "s = \"I love chicken\"\n",
    "for character in s:\n",
    "    print (character)   "
   ]
  },
  {
   "cell_type": "code",
   "execution_count": 22,
   "metadata": {},
   "outputs": [
    {
     "name": "stdout",
     "output_type": "stream",
     "text": [
      "I\n",
      " \n",
      "l\n",
      "o\n",
      "v\n",
      "e\n",
      " \n",
      "c\n",
      "h\n",
      "i\n",
      "c\n",
      "k\n",
      "e\n",
      "n\n",
      "I\n",
      " \n",
      "l\n",
      "o\n",
      "v\n",
      "e\n",
      " \n",
      "c\n",
      "h\n",
      "i\n",
      "c\n",
      "k\n",
      "e\n",
      "n\n"
     ]
    }
   ],
   "source": [
    "s = \"I love chicken\"\n",
    "for i in range(14):\n",
    "    print (s[i]) \n",
    " \n",
    "s = \"I love chicken\"\n",
    "for i in range(len(s)):\n",
    "    print (s[i]) "
   ]
  },
  {
   "cell_type": "code",
   "execution_count": 23,
   "metadata": {},
   "outputs": [
    {
     "name": "stdout",
     "output_type": "stream",
     "text": [
      "I\n",
      " \n",
      "l\n",
      "o\n",
      "v\n",
      "e\n",
      " \n",
      "c\n",
      "h\n",
      "i\n",
      "c\n",
      "k\n",
      "e\n",
      "n\n"
     ]
    }
   ],
   "source": [
    "s = \"I love chicken\"\n",
    "for i in range(len(s)):\n",
    "    print (s[i]) "
   ]
  },
  {
   "cell_type": "code",
   "execution_count": 24,
   "metadata": {},
   "outputs": [
    {
     "name": "stdout",
     "output_type": "stream",
     "text": [
      "0 I\n",
      "1  \n",
      "2 l\n",
      "3 o\n",
      "4 v\n",
      "5 e\n",
      "6  \n",
      "7 c\n",
      "8 h\n",
      "9 i\n",
      "10 c\n",
      "11 k\n",
      "12 e\n",
      "13 n\n"
     ]
    }
   ],
   "source": [
    "s = \"I love chicken\"\n",
    "for i, character in enumerate(s):\n",
    "    print(i, character)"
   ]
  },
  {
   "cell_type": "markdown",
   "metadata": {},
   "source": [
    "You are given a string s\n",
    " consisting of lowercase Latin letters and a letter a\n",
    ". The length of the string is even.\n",
    "\n",
    "Insert the given letter a\n",
    " in the middle of the given string s\n",
    ". Print the resulting string.\n",
    "\n",
    "Input\n",
    "The first line contains a non-empty string s\n",
    " consisting of lowercase Latin letters. The length of the given string is even and does not exceed 1000\n",
    ".\n",
    "\n",
    "The second line contains a letter a\n",
    ".\n",
    "\n",
    "Output\n",
    "Print the resulting string."
   ]
  },
  {
   "cell_type": "code",
   "execution_count": 27,
   "metadata": {},
   "outputs": [
    {
     "name": "stdout",
     "output_type": "stream",
     "text": [
      "abbac\n"
     ]
    }
   ],
   "source": [
    "s = input()\n",
    "a = input()\n",
    "\n",
    "for \n",
    "\n",
    "\n",
    "\n",
    "result = b + a + c\n",
    "print(result)\n"
   ]
  },
  {
   "cell_type": "code",
   "execution_count": 38,
   "metadata": {},
   "outputs": [
    {
     "name": "stdout",
     "output_type": "stream",
     "text": [
      "defabc\n"
     ]
    }
   ],
   "source": [
    "s = input()\n",
    "mid_point = len(s) //2 \n",
    "first_half = s [ : mid_point]\n",
    "sec_half = s [mid_point : ]\n",
    "\n",
    "result = (sec_half + first_half)\n",
    "print(result)"
   ]
  },
  {
   "cell_type": "code",
   "execution_count": 4,
   "metadata": {},
   "outputs": [
    {
     "name": "stdout",
     "output_type": "stream",
     "text": [
      "aba\n"
     ]
    }
   ],
   "source": [
    "s = input()\n",
    "a = input()\n",
    "mid_letter = len(s) // 2\n",
    "\n",
    "fir_gp = s [ : mid_letter]\n",
    "sec_gp = s [mid_letter : ]\n",
    "result = (fir_gp + a + sec_gp)\n",
    "print (result)"
   ]
  },
  {
   "cell_type": "code",
   "execution_count": 17,
   "metadata": {},
   "outputs": [
    {
     "name": "stdout",
     "output_type": "stream",
     "text": [
      "xyz\n"
     ]
    }
   ],
   "source": [
    "s = input()\n",
    "mid = len(s) // 2\n",
    "first_letter = mid - 1\n",
    "result = s[first_letter : first_letter +3]\n",
    "print(result)"
   ]
  },
  {
   "cell_type": "code",
   "execution_count": 16,
   "metadata": {},
   "outputs": [
    {
     "name": "stdout",
     "output_type": "stream",
     "text": [
      "xyz\n"
     ]
    }
   ],
   "source": [
    "s = input()\n",
    "mid = len(s) // 2\n",
    "first_letter = mid - 1\n",
    "result = s[first_letter:first_letter + 3]\n",
    "print(result)"
   ]
  },
  {
   "cell_type": "code",
   "execution_count": 18,
   "metadata": {},
   "outputs": [
    {
     "name": "stdout",
     "output_type": "stream",
     "text": [
      "h\n",
      "e\n",
      "l\n",
      "l\n",
      "o\n"
     ]
    }
   ],
   "source": [
    "s = input()\n",
    "for i in range(len(s)):\n",
    "    print (s[i]) "
   ]
  },
  {
   "cell_type": "code",
   "execution_count": 20,
   "metadata": {},
   "outputs": [
    {
     "name": "stdout",
     "output_type": "stream",
     "text": [
      "1\n"
     ]
    }
   ],
   "source": [
    "s = input()\n",
    "result = s.find(\"f\")\n",
    "print (result)\n"
   ]
  },
  {
   "cell_type": "code",
   "execution_count": 25,
   "metadata": {},
   "outputs": [
    {
     "name": "stdout",
     "output_type": "stream",
     "text": [
      "DRAW\n"
     ]
    }
   ],
   "source": [
    "record = input()\n",
    "a = record.count(\"A\")\n",
    "b = record.count(\"B\")\n",
    "if a > b :\n",
    "    print(\"ALICE\")\n",
    "elif b > a :\n",
    "    print (\"BOB\")\n",
    "elif a == b :\n",
    "    print (\"DRAW\")"
   ]
  },
  {
   "cell_type": "code",
   "execution_count": 21,
   "metadata": {},
   "outputs": [
    {
     "name": "stdout",
     "output_type": "stream",
     "text": [
      "YES\n"
     ]
    }
   ],
   "source": [
    "s = input()\n",
    "a = len(s) // 2\n",
    "isP = True\n",
    "\n",
    "for i in range(a) :\n",
    "    if s[i] != s[-(i+1)] :\n",
    "        isP = False\n",
    "\n",
    "if isP == True:\n",
    "    print (\"YES\")\n",
    "else:\n",
    "    print (\"NO\")\n",
    "\n",
    "       "
   ]
  },
  {
   "cell_type": "code",
   "execution_count": null,
   "metadata": {},
   "outputs": [],
   "source": [
    "s = input()\n",
    "result = f{ }"
   ]
  },
  {
   "cell_type": "code",
   "execution_count": 28,
   "metadata": {},
   "outputs": [
    {
     "name": "stdout",
     "output_type": "stream",
     "text": [
      "h_e_l_l_o\n"
     ]
    }
   ],
   "source": [
    "s = input()\n",
    "b = '_'.join(s)\n",
    "print (b)"
   ]
  },
  {
   "cell_type": "code",
   "execution_count": 37,
   "metadata": {},
   "outputs": [
    {
     "name": "stdout",
     "output_type": "stream",
     "text": [
      "a_b_c\n"
     ]
    }
   ],
   "source": [
    "s = input()\n",
    "a = \"\"\n",
    "for character in s :\n",
    "    a = a + character + \"_\"\n",
    "\n",
    "result = a[ : len(a) - 1]\n",
    "print(result)"
   ]
  },
  {
   "cell_type": "markdown",
   "metadata": {},
   "source": [
    "Day 9"
   ]
  },
  {
   "cell_type": "markdown",
   "metadata": {},
   "source": [
    "# remove (No need index and can remove)\n",
    "# pop (Need index and can remove)\n"
   ]
  },
  {
   "cell_type": "code",
   "execution_count": 46,
   "metadata": {},
   "outputs": [
    {
     "data": {
      "text/plain": [
       "['true', 1, 2, 3, 4, 5, 4]"
      ]
     },
     "execution_count": 46,
     "metadata": {},
     "output_type": "execute_result"
    }
   ],
   "source": [
    "s = [1,2,3]\n",
    "s.append(4)\n",
    "s\n",
    "\n",
    "s.insert(0,\"true\")\n",
    "s\n",
    "\n",
    "s.extend([5,4])\n",
    "s\n"
   ]
  },
  {
   "cell_type": "code",
   "execution_count": 48,
   "metadata": {},
   "outputs": [
    {
     "data": {
      "text/plain": [
       "[2, 0.5, None, 'Vetit']"
      ]
     },
     "execution_count": 48,
     "metadata": {},
     "output_type": "execute_result"
    }
   ],
   "source": [
    "l = [1, 2, 0.5, None, \"Vetit\"]\n",
    "count_of_one = l.count(1)\n",
    "\n",
    "for i in range(count_of_one) :\n",
    "    l.remove(1)\n",
    "\n",
    "l"
   ]
  },
  {
   "cell_type": "code",
   "execution_count": 52,
   "metadata": {},
   "outputs": [
    {
     "data": {
      "text/plain": [
       "[1, 2, 0.5, None, 'Vetit']"
      ]
     },
     "execution_count": 52,
     "metadata": {},
     "output_type": "execute_result"
    }
   ],
   "source": [
    "l = [1, 2, 0.5, None, \"Vetit\"]\n",
    "l[1] == 3\n",
    "l\n"
   ]
  },
  {
   "cell_type": "code",
   "execution_count": 2,
   "metadata": {},
   "outputs": [
    {
     "data": {
      "text/plain": [
       "[2, 0.5, None, 'Vetit']"
      ]
     },
     "execution_count": 2,
     "metadata": {},
     "output_type": "execute_result"
    }
   ],
   "source": [
    "l = [1, 2, 0.5, None, \"Vetit\"]\n",
    "new_list = []\n",
    "\n",
    "for element in l:\n",
    "    if element != 1:\n",
    "        new_list.append(element)\n",
    "new_list"
   ]
  },
  {
   "cell_type": "markdown",
   "metadata": {},
   "source": [
    "*l(List_Extractor)"
   ]
  },
  {
   "cell_type": "code",
   "execution_count": 7,
   "metadata": {},
   "outputs": [
    {
     "name": "stdout",
     "output_type": "stream",
     "text": [
      "1 2 0.5 None Vetit\n"
     ]
    },
    {
     "data": {
      "text/plain": [
       "[10, 20]"
      ]
     },
     "execution_count": 7,
     "metadata": {},
     "output_type": "execute_result"
    }
   ],
   "source": [
    "l = [1, 2, 0.5, None, \"Vetit\"]\n",
    "print(*l)\n",
    "\n",
    "zero = [10] * 10\n",
    "hero = [10] + [20]\n",
    "hero"
   ]
  },
  {
   "cell_type": "code",
   "execution_count": null,
   "metadata": {},
   "outputs": [],
   "source": [
    "l = [ 1, 0. 1. 0]\n",
    "l = list(map(int, input(). split))"
   ]
  },
  {
   "cell_type": "code",
   "execution_count": 9,
   "metadata": {},
   "outputs": [
    {
     "data": {
      "text/plain": [
       "tuple"
      ]
     },
     "execution_count": 9,
     "metadata": {},
     "output_type": "execute_result"
    }
   ],
   "source": [
    "t = (1,2,3,4)\n",
    "one_element_list = [2]\n",
    "one_element_tuple = (2,)\n",
    "\n",
    "type(one_element_tuple)"
   ]
  },
  {
   "cell_type": "markdown",
   "metadata": {},
   "source": [
    "### Set & Dictionary"
   ]
  },
  {
   "cell_type": "code",
   "execution_count": 7,
   "metadata": {},
   "outputs": [
    {
     "name": "stdout",
     "output_type": "stream",
     "text": [
      "{1, 2, 3}\n",
      "[1, 2, 3, 3]\n"
     ]
    }
   ],
   "source": [
    "empt_set = set()\n",
    "non_set = {1, 2, 3, 3}\n",
    "list = [1, 2, 3, 3]\n",
    "\n",
    "print (non_set)\n",
    "print (list)"
   ]
  },
  {
   "cell_type": "code",
   "execution_count": 9,
   "metadata": {},
   "outputs": [
    {
     "data": {
      "text/plain": [
       "{1, 2, 3, 4}"
      ]
     },
     "execution_count": 9,
     "metadata": {},
     "output_type": "execute_result"
    }
   ],
   "source": [
    "s1 = {1,1,2,3}\n",
    "s1.add(4)\n",
    "s1"
   ]
  },
  {
   "cell_type": "code",
   "execution_count": null,
   "metadata": {},
   "outputs": [],
   "source": [
    "s = {1,2,4} >> # 0(1)\n",
    "l = [1,2,4] >> # 0(n)\n"
   ]
  },
  {
   "cell_type": "markdown",
   "metadata": {},
   "source": [
    "###Functions"
   ]
  },
  {
   "cell_type": "code",
   "execution_count": null,
   "metadata": {},
   "outputs": [],
   "source": [
    "def calculate_price(num_apples) :\n",
    "    apple_price = 60\n",
    "    return num_apples * apple_price"
   ]
  },
  {
   "cell_type": "code",
   "execution_count": null,
   "metadata": {},
   "outputs": [],
   "source": [
    "total_price = calculate_price()\n",
    "print (f 'The total price is {total_price}')"
   ]
  },
  {
   "cell_type": "markdown",
   "metadata": {},
   "source": [
    "***args and **kwargs\n",
    "args for unspecified positonal arguments\n",
    "Kwargs for unspecified keyword arguments"
   ]
  },
  {
   "cell_type": "code",
   "execution_count": 5,
   "metadata": {},
   "outputs": [
    {
     "name": "stdout",
     "output_type": "stream",
     "text": [
      "Hello 1 2 4\n"
     ]
    }
   ],
   "source": [
    "def greeting(a = 1, b = 2, c = 3, **kwargs) :\n",
    "    print(\"Hello\", a, b, kwargs[\"e\"])\n",
    "\n",
    "greeting(e = 4, f = 6)"
   ]
  },
  {
   "cell_type": "code",
   "execution_count": 2,
   "metadata": {},
   "outputs": [
    {
     "data": {
      "text/plain": [
       "4"
      ]
     },
     "execution_count": 2,
     "metadata": {},
     "output_type": "execute_result"
    }
   ],
   "source": [
    "def square(x : float) :\n",
    "    return x **2\n",
    "\n",
    "square(2)"
   ]
  }
 ],
 "metadata": {
  "kernelspec": {
   "display_name": "testing_env",
   "language": "python",
   "name": "python3"
  },
  "language_info": {
   "codemirror_mode": {
    "name": "ipython",
    "version": 3
   },
   "file_extension": ".py",
   "mimetype": "text/x-python",
   "name": "python",
   "nbconvert_exporter": "python",
   "pygments_lexer": "ipython3",
   "version": "3.12.6"
  }
 },
 "nbformat": 4,
 "nbformat_minor": 2
}
