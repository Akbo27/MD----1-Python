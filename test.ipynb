{
 "cells": [
  {
   "cell_type": "code",
   "execution_count": 18,
   "metadata": {},
   "outputs": [
    {
     "name": "stdout",
     "output_type": "stream",
     "text": [
      "AKB\n"
     ]
    }
   ],
   "source": [
    "print(\"AKB\")"
   ]
  },
  {
   "cell_type": "markdown",
   "metadata": {},
   "source": [
    "Day 3 (MD-1)"
   ]
  },
  {
   "cell_type": "code",
   "execution_count": null,
   "metadata": {},
   "outputs": [],
   "source": []
  },
  {
   "cell_type": "code",
   "execution_count": 19,
   "metadata": {},
   "outputs": [
    {
     "name": "stdout",
     "output_type": "stream",
     "text": [
      "Hello, welcome \n"
     ]
    }
   ],
   "source": [
    "name_input = input()\n",
    "print(\"Hello, welcome\" , name_input)"
   ]
  },
  {
   "cell_type": "code",
   "execution_count": 20,
   "metadata": {},
   "outputs": [
    {
     "name": "stdout",
     "output_type": "stream",
     "text": [
      "True <class 'bool'>\n"
     ]
    }
   ],
   "source": [
    "a = bool(str(float(-2)))\n",
    "print (a, type(a))"
   ]
  },
  {
   "cell_type": "code",
   "execution_count": 21,
   "metadata": {},
   "outputs": [
    {
     "name": "stdout",
     "output_type": "stream",
     "text": [
      "Hello, World\n",
      "4 <class 'int'>\n"
     ]
    }
   ],
   "source": [
    "print (\"Hello, World\")\n",
    "a = int(\"4\")\n",
    "print (a, type(a))\n"
   ]
  },
  {
   "cell_type": "code",
   "execution_count": 27,
   "metadata": {},
   "outputs": [
    {
     "data": {
      "text/plain": [
       "13"
      ]
     },
     "execution_count": 27,
     "metadata": {},
     "output_type": "execute_result"
    }
   ],
   "source": [
    "a = 4\n",
    "b = a + 8\n",
    "a+= 9\n",
    "a"
   ]
  },
  {
   "cell_type": "code",
   "execution_count": 31,
   "metadata": {},
   "outputs": [
    {
     "name": "stdout",
     "output_type": "stream",
     "text": [
      "-16\n"
     ]
    }
   ],
   "source": [
    "x = 5\n",
    "y = 10.2\n",
    "z = x + y\n",
    "type (z)\n",
    "\n",
    "x = \"Bo Bo\"\n",
    "type(x)\n",
    "\n",
    "a = 6 ** 2 // 4\n",
    "b = int(isinstance(a, int))\n",
    "a+= 8\n",
    "print (b-a)"
   ]
  },
  {
   "cell_type": "markdown",
   "metadata": {},
   "source": [
    "### Day 4"
   ]
  },
  {
   "cell_type": "code",
   "execution_count": 17,
   "metadata": {},
   "outputs": [
    {
     "name": "stdout",
     "output_type": "stream",
     "text": [
      "True\n"
     ]
    }
   ],
   "source": [
    "not True\n",
    "not (False)\n",
    "True and True\n",
    "True and False\n",
    "False and False\n",
    "\n",
    "2>3 and 4>4\n",
    "\n",
    "True or True\n",
    "False or True\n",
    "True or False\n",
    "\n",
    "a = 5\n",
    "b = 4\n",
    "print(a != b-1 or b**2 > 4)"
   ]
  },
  {
   "cell_type": "code",
   "execution_count": 24,
   "metadata": {},
   "outputs": [
    {
     "name": "stdout",
     "output_type": "stream",
     "text": [
      "6\n"
     ]
    }
   ],
   "source": [
    "first_number = int(input (\"Enter first number: \"))\n",
    "second_number = int(input (\"Enter second number: \"))\n",
    "added_result = first_number + second_number\n",
    "print(added_result)"
   ]
  },
  {
   "cell_type": "code",
   "execution_count": null,
   "metadata": {},
   "outputs": [],
   "source": [
    "a = float(input(\"Enter room temperature C\"))\n",
    "b = (9/5 * a) + 32\n",
    "print(b)"
   ]
  },
  {
   "cell_type": "code",
   "execution_count": 56,
   "metadata": {},
   "outputs": [
    {
     "name": "stdout",
     "output_type": "stream",
     "text": [
      "Room temperature is 68.9 F\n"
     ]
    }
   ],
   "source": [
    "temp_c = float (input(\"Enter room temperature in celsius\"))\n",
    "temp_f = (9/5 * temp_c) + 32\n",
    "ans    = \"Room temperature is \" + str( temp_f ) + \" F\"\n",
    "print (ans)"
   ]
  },
  {
   "cell_type": "code",
   "execution_count": 46,
   "metadata": {},
   "outputs": [
    {
     "name": "stdout",
     "output_type": "stream",
     "text": [
      "C = 20.5\n",
      "F = 68.9\n",
      "R = 21.3\n",
      "K = 293.5\n"
     ]
    }
   ],
   "source": [
    "temp_celcius = float (input(\"Enter room temperature in celsius\"))\n",
    "\n",
    "temp_romer = temp_celcius + 0.8\n",
    "temp_fareheit = temp_celcius*1.8 + 32\n",
    "temp_kelvin = temp_celcius + 273\n",
    "\n",
    "print(\"C =\", temp_celcius)\n",
    "print(\"F =\", temp_fareheit)\n",
    "print(\"R =\", temp_romer)\n",
    "print(\"K =\", temp_kelvin)"
   ]
  },
  {
   "cell_type": "markdown",
   "metadata": {},
   "source": [
    "Maths Functions"
   ]
  },
  {
   "cell_type": "code",
   "execution_count": 50,
   "metadata": {},
   "outputs": [
    {
     "data": {
      "text/plain": [
       "2.0"
      ]
     },
     "execution_count": 50,
     "metadata": {},
     "output_type": "execute_result"
    }
   ],
   "source": [
    "abs(-12)\n",
    "abs(223)\n",
    "abs(-2.0)"
   ]
  },
  {
   "cell_type": "code",
   "execution_count": 52,
   "metadata": {},
   "outputs": [
    {
     "data": {
      "text/plain": [
       "-23"
      ]
     },
     "execution_count": 52,
     "metadata": {},
     "output_type": "execute_result"
    }
   ],
   "source": [
    "max(23, 4, -2, 0)\n",
    "min(-23, 2, 78)"
   ]
  },
  {
   "cell_type": "code",
   "execution_count": 55,
   "metadata": {},
   "outputs": [
    {
     "data": {
      "text/plain": [
       "1000"
      ]
     },
     "execution_count": 55,
     "metadata": {},
     "output_type": "execute_result"
    }
   ],
   "source": [
    "round(2.45 , 1)\n",
    "round(-2.4525 , 3)\n",
    "round(1242, -3)"
   ]
  },
  {
   "cell_type": "markdown",
   "metadata": {},
   "source": [
    "Turtle Library"
   ]
  },
  {
   "cell_type": "code",
   "execution_count": null,
   "metadata": {},
   "outputs": [],
   "source": [
    "import turtle"
   ]
  },
  {
   "cell_type": "code",
   "execution_count": null,
   "metadata": {},
   "outputs": [],
   "source": [
    "turtle.forward(200)"
   ]
  }
 ],
 "metadata": {
  "kernelspec": {
   "display_name": "testing_env",
   "language": "python",
   "name": "python3"
  },
  "language_info": {
   "codemirror_mode": {
    "name": "ipython",
    "version": 3
   },
   "file_extension": ".py",
   "mimetype": "text/x-python",
   "name": "python",
   "nbconvert_exporter": "python",
   "pygments_lexer": "ipython3",
   "version": "3.12.6"
  }
 },
 "nbformat": 4,
 "nbformat_minor": 2
}
