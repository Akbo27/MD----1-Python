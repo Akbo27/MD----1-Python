{
 "cells": [
  {
   "cell_type": "code",
   "execution_count": 10,
   "metadata": {},
   "outputs": [
    {
     "name": "stdout",
     "output_type": "stream",
     "text": [
      "10\n"
     ]
    }
   ],
   "source": [
    "num_ele = int(input())\n",
    "all_ele = input().split()\n",
    "num_index = int(input())\n",
    "\n",
    "result = all_ele[num_index]\n",
    "\n",
    "print(result)\n"
   ]
  },
  {
   "cell_type": "code",
   "execution_count": 2,
   "metadata": {},
   "outputs": [
    {
     "name": "stdout",
     "output_type": "stream",
     "text": [
      "11 12 13\n"
     ]
    }
   ],
   "source": [
    "num_ele = int(input())\n",
    "all_ele = list(map(int, input().split()))\n",
    "pos_ele = int(input())\n",
    "\n",
    "for i in range(num_ele):\n",
    "    all_ele[i] += pos_ele\n",
    "\n",
    "temp = list(map(str, all_ele))\n",
    "\n",
    "print (\" \".join(temp))\n",
    "\n",
    "\n",
    "\n"
   ]
  },
  {
   "cell_type": "code",
   "execution_count": 6,
   "metadata": {},
   "outputs": [
    {
     "name": "stdout",
     "output_type": "stream",
     "text": [
      "1 2 3\n"
     ]
    }
   ],
   "source": [
    "l = ['1','2','3']\n",
    "print (\" \".join(l))"
   ]
  },
  {
   "cell_type": "code",
   "execution_count": 8,
   "metadata": {},
   "outputs": [
    {
     "name": "stdout",
     "output_type": "stream",
     "text": [
      "4 9 3 5\n"
     ]
    }
   ],
   "source": [
    "num_e = int(input())\n",
    "con_e = list(map(int, input().split()))\n",
    "result = con_e[ : : 2]\n",
    "\n",
    "temp = list(map(str, result))\n",
    "\n",
    "print (\" \" .join(temp))\n",
    "    "
   ]
  },
  {
   "cell_type": "code",
   "execution_count": 14,
   "metadata": {},
   "outputs": [
    {
     "name": "stdout",
     "output_type": "stream",
     "text": [
      "2 8 6\n"
     ]
    }
   ],
   "source": [
    "num_e = int(input())\n",
    "list_e = list(map(int, input().split()))\n",
    "result = []\n",
    "\n",
    "for i in range(num_e):\n",
    "    if list_e[i] % 2 == 0:\n",
    "        result.append(str(list_e[i]))\n",
    "\n",
    "print (\" \" .join(result))\n",
    "    "
   ]
  },
  {
   "cell_type": "code",
   "execution_count": null,
   "metadata": {},
   "outputs": [],
   "source": []
  },
  {
   "cell_type": "code",
   "execution_count": 4,
   "metadata": {},
   "outputs": [
    {
     "data": {
      "text/plain": [
       "3"
      ]
     },
     "execution_count": 4,
     "metadata": {},
     "output_type": "execute_result"
    }
   ],
   "source": [
    "num_e = int(input())\n",
    "list_e = list(map(int, input() .split()))\n",
    "result = []\n",
    "\n",
    "for i in range(num_e):\n",
    "    if list_e[i] not in result:\n",
    "        result.append(list_e[i])\n",
    "        \n",
    "print (len(result))"
   ]
  },
  {
   "cell_type": "code",
   "execution_count": 1,
   "metadata": {},
   "outputs": [
    {
     "data": {
      "text/plain": [
       "3"
      ]
     },
     "execution_count": 1,
     "metadata": {},
     "output_type": "execute_result"
    }
   ],
   "source": [
    "num_e = int(input())\n",
    "set_e = set(map(int, input() .split()))\n",
    "\n",
    "len(set_e)\n",
    "\n"
   ]
  },
  {
   "cell_type": "code",
   "execution_count": 8,
   "metadata": {},
   "outputs": [
    {
     "name": "stdout",
     "output_type": "stream",
     "text": [
      "NO\n"
     ]
    }
   ],
   "source": [
    "num_e = int(input())\n",
    "list_e = list(map(int, input() .split()))\n",
    "temp = \"NO\"\n",
    "\n",
    "for i in range(num_e-1):\n",
    "    if list_e[i] > 0 and list_e[i+1] > 0:\n",
    "        temp = \"YES\"\n",
    "        break\n",
    "    \n",
    "    elif list_e[i] < 0 and list_e[i+1] <0:\n",
    "        temp = \"YES\"\n",
    "        break\n",
    "\n",
    "print(temp)\n"
   ]
  }
 ],
 "metadata": {
  "kernelspec": {
   "display_name": "Python 3",
   "language": "python",
   "name": "python3"
  },
  "language_info": {
   "codemirror_mode": {
    "name": "ipython",
    "version": 3
   },
   "file_extension": ".py",
   "mimetype": "text/x-python",
   "name": "python",
   "nbconvert_exporter": "python",
   "pygments_lexer": "ipython3",
   "version": "3.12.6"
  }
 },
 "nbformat": 4,
 "nbformat_minor": 2
}
